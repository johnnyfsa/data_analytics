{
 "cells": [
  {
   "cell_type": "code",
   "execution_count": 3,
   "metadata": {},
   "outputs": [],
   "source": [
    "import csv\n",
    "\n",
    "data_list=[]\n",
    "\n",
    "file_paths=['data/cardio_alco.csv', 'data/cardio_base.csv', 'data/covid_data.csv']\n",
    "\n",
    "for file_path in file_paths:\n",
    "    with open(file_path, 'r') as csv_file:\n",
    "        csv_reader=csv.reader(csv_file)\n",
    "        \n",
    "        file_data =[]\n",
    "\n",
    "        for row in csv_reader:\n",
    "            file_data.append(row)\n",
    "\n",
    "        data_list.append(file_data)"
   ]
  },
  {
   "cell_type": "code",
   "execution_count": 32,
   "metadata": {},
   "outputs": [],
   "source": [
    "list_1 = data_list[1]\n",
    "header = list_1[0]\n",
    "data = list_1[1:]"
   ]
  },
  {
   "cell_type": "code",
   "execution_count": 27,
   "metadata": {},
   "outputs": [
    {
     "name": "stdout",
     "output_type": "stream",
     "text": [
      "Age group with highest average weight (Age 15086): 165.0\n",
      "Age group with lowest average weight (Age 21582): 11.0\n",
      "Difference in weight: 154.0\n",
      "6.666666666666667 %\n"
     ]
    }
   ],
   "source": [
    "#dictionary to store age as key and list the weights as value\n",
    "from collections import defaultdict\n",
    "age_weight = defaultdict(list)\n",
    "\n",
    "\n",
    "for row in data:\n",
    "    age = int(row[1]) \n",
    "    weight = float(row[4])  \n",
    "    age_weight[age].append(weight)\n",
    "\n",
    "average_weights = {age: sum(weights)/len(weights) for age, weights in age_weight.items()}\n",
    "\n",
    "# Find the age group with the highest and lowest average weight\n",
    "max_age = max(average_weights, key=average_weights.get)\n",
    "min_age = min(average_weights, key=average_weights.get)\n",
    "\n",
    "weight_difference = average_weights[max_age] - average_weights[min_age]\n",
    "\n",
    "\n",
    "\n",
    "# Print the results\n",
    "print(f\"Age group with highest average weight (Age {max_age}): {average_weights[max_age]}\")\n",
    "print(f\"Age group with lowest average weight (Age {min_age}): {average_weights[min_age]}\")\n",
    "print(f\"Difference in weight: {weight_difference}\")\n",
    "\n",
    "print((average_weights[min_age]/average_weights[max_age])*100, \"%\")"
   ]
  },
  {
   "cell_type": "code",
   "execution_count": 51,
   "metadata": {},
   "outputs": [
    {
     "name": "stdout",
     "output_type": "stream",
     "text": [
      "6.587945879458794\n"
     ]
    }
   ],
   "source": [
    "sex_smoke = defaultdict(list)\n",
    "\n",
    "\n",
    "for row in data:\n",
    "    sex = int(row[2]) \n",
    "    smoke = int(row[8])  \n",
    "    sex_smoke[sex].append(smoke)\n",
    "\n",
    "\n",
    "male_smoker =0\n",
    "female_smoker=0\n",
    "\n",
    "for female in sex_smoke[1]:\n",
    "    if female==1:\n",
    "        female_smoker+=1\n",
    "\n",
    "for male in sex_smoke[2]:\n",
    "    if male==1:\n",
    "        male_smoker+=1\n",
    "\n",
    "\n",
    "\n",
    "\n",
    "print(male_smoker/female_smoker)\n",
    "    "
   ]
  },
  {
   "cell_type": "code",
   "execution_count": 68,
   "metadata": {},
   "outputs": [],
   "source": [
    "heights =[]\n",
    "for row in data:\n",
    "    height = float(row[3])\n",
    "    heights.append(height)\n",
    "   "
   ]
  },
  {
   "cell_type": "code",
   "execution_count": 77,
   "metadata": {},
   "outputs": [
    {
     "name": "stdout",
     "output_type": "stream",
     "text": [
      "70000\n",
      "700\n",
      "186.9142857142857\n"
     ]
    }
   ],
   "source": [
    "sorted_people = sorted(heights, reverse=True)\n",
    "\n",
    "print(len(sorted_people))\n",
    "\n",
    "threshold = int(len(sorted_people) * 0.01)\n",
    "\n",
    "# Select the top 1% tallest people\n",
    "top_1_percent = sorted_people[:threshold]\n",
    "\n",
    "print(len(top_1_percent))\n",
    "\n",
    "average_heights = sum(top_1_percent) / len(top_1_percent)\n",
    "print(average_heights)"
   ]
  },
  {
   "cell_type": "code",
   "execution_count": 78,
   "metadata": {},
   "outputs": [
    {
     "ename": "ModuleNotFoundError",
     "evalue": "No module named 'pandas'",
     "output_type": "error",
     "traceback": [
      "\u001b[1;31m---------------------------------------------------------------------------\u001b[0m",
      "\u001b[1;31mModuleNotFoundError\u001b[0m                       Traceback (most recent call last)",
      "\u001b[1;32mc:\\Users\\Pichau\\Documents\\GitHub\\Data Analysis\\data_analysis.ipynb Cell 7\u001b[0m line \u001b[0;36m1\n\u001b[1;32m----> <a href='vscode-notebook-cell:/c%3A/Users/Pichau/Documents/GitHub/Data%20Analysis/data_analysis.ipynb#X11sZmlsZQ%3D%3D?line=0'>1</a>\u001b[0m \u001b[39mimport\u001b[39;00m \u001b[39mpandas\u001b[39;00m \u001b[39mas\u001b[39;00m \u001b[39mpd\u001b[39;00m\n\u001b[0;32m      <a href='vscode-notebook-cell:/c%3A/Users/Pichau/Documents/GitHub/Data%20Analysis/data_analysis.ipynb#X11sZmlsZQ%3D%3D?line=1'>2</a>\u001b[0m df \u001b[39m=\u001b[39m pd\u001b[39m.\u001b[39mread_csv(\u001b[39m'\u001b[39m\u001b[39mdata/cardio_base.csv\u001b[39m\u001b[39m'\u001b[39m)\n\u001b[0;32m      <a href='vscode-notebook-cell:/c%3A/Users/Pichau/Documents/GitHub/Data%20Analysis/data_analysis.ipynb#X11sZmlsZQ%3D%3D?line=2'>3</a>\u001b[0m correlation_matrix \u001b[39m=\u001b[39m df\u001b[39m.\u001b[39mcorr(method\u001b[39m=\u001b[39m\u001b[39m'\u001b[39m\u001b[39mspearman\u001b[39m\u001b[39m'\u001b[39m)\n",
      "\u001b[1;31mModuleNotFoundError\u001b[0m: No module named 'pandas'"
     ]
    }
   ],
   "source": [
    "import pandas as pd\n",
    "df = pd.read_csv('data/cardio_base.csv')\n",
    "correlation_matrix = df.corr(method='spearman')"
   ]
  }
 ],
 "metadata": {
  "kernelspec": {
   "display_name": "Python 3",
   "language": "python",
   "name": "python3"
  },
  "language_info": {
   "codemirror_mode": {
    "name": "ipython",
    "version": 3
   },
   "file_extension": ".py",
   "mimetype": "text/x-python",
   "name": "python",
   "nbconvert_exporter": "python",
   "pygments_lexer": "ipython3",
   "version": "3.11.5"
  }
 },
 "nbformat": 4,
 "nbformat_minor": 2
}
